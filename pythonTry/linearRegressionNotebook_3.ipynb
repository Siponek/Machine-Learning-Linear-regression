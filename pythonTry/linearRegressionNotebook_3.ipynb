{
 "cells": [
  {
   "cell_type": "markdown",
   "metadata": {},
   "source": [
    "# Task 1: Get data"
   ]
  },
  {
   "cell_type": "markdown",
   "metadata": {},
   "source": [
    "## 1 Load libs / Load turkish-se-SP500vsMSCI.csv  / Load mtcarsdata-4features.csv.csv dataset"
   ]
  },
  {
   "cell_type": "code",
   "execution_count": 1,
   "metadata": {},
   "outputs": [],
   "source": [
    "#!/usr/bin/env python\n",
    "import pandas as pd\n",
    "import numpy as np\n",
    "import seaborn as sns\n",
    "import matplotlib.pyplot as plt\n",
    "# import plotly.express as px\n",
    "sns.set_palette(\"tab10\")"
   ]
  },
  {
   "cell_type": "code",
   "execution_count": 2,
   "metadata": {},
   "outputs": [
    {
     "name": "stdout",
     "output_type": "stream",
     "text": [
      "THIS IS THE TURKISH STOCK EXCHANGE\n"
     ]
    },
    {
     "data": {
      "text/html": [
       "<div>\n",
       "<style scoped>\n",
       "    .dataframe tbody tr th:only-of-type {\n",
       "        vertical-align: middle;\n",
       "    }\n",
       "\n",
       "    .dataframe tbody tr th {\n",
       "        vertical-align: top;\n",
       "    }\n",
       "\n",
       "    .dataframe thead th {\n",
       "        text-align: right;\n",
       "    }\n",
       "</style>\n",
       "<table border=\"1\" class=\"dataframe\">\n",
       "  <thead>\n",
       "    <tr style=\"text-align: right;\">\n",
       "      <th></th>\n",
       "      <th>x1</th>\n",
       "      <th>x2</th>\n",
       "    </tr>\n",
       "  </thead>\n",
       "  <tbody>\n",
       "    <tr>\n",
       "      <th>0</th>\n",
       "      <td>-0.004679</td>\n",
       "      <td>0.012698</td>\n",
       "    </tr>\n",
       "    <tr>\n",
       "      <th>1</th>\n",
       "      <td>0.007787</td>\n",
       "      <td>0.011341</td>\n",
       "    </tr>\n",
       "    <tr>\n",
       "      <th>2</th>\n",
       "      <td>-0.030469</td>\n",
       "      <td>-0.017073</td>\n",
       "    </tr>\n",
       "    <tr>\n",
       "      <th>3</th>\n",
       "      <td>0.003391</td>\n",
       "      <td>-0.005561</td>\n",
       "    </tr>\n",
       "    <tr>\n",
       "      <th>4</th>\n",
       "      <td>-0.021533</td>\n",
       "      <td>-0.010989</td>\n",
       "    </tr>\n",
       "  </tbody>\n",
       "</table>\n",
       "</div>"
      ],
      "text/plain": [
       "         x1        x2\n",
       "0 -0.004679  0.012698\n",
       "1  0.007787  0.011341\n",
       "2 -0.030469 -0.017073\n",
       "3  0.003391 -0.005561\n",
       "4 -0.021533 -0.010989"
      ]
     },
     "execution_count": 2,
     "metadata": {},
     "output_type": "execute_result"
    }
   ],
   "source": [
    "# Linear regression model without intercept is regression model just with a starting point at (0,,0)\n",
    "turkishStock = pd.read_csv(\"../src/turkish-se-SP500vsMSCI.csv\", sep=',', names=['x1', 'x2'])\n",
    "print(\"THIS IS THE TURKISH STOCK EXCHANGE\")\n",
    "turkishStock[:5]"
   ]
  },
  {
   "cell_type": "code",
   "execution_count": 3,
   "metadata": {},
   "outputs": [
    {
     "name": "stdout",
     "output_type": "stream",
     "text": [
      "THIS IS THE MTCarsData\n"
     ]
    },
    {
     "data": {
      "text/html": [
       "<div>\n",
       "<style scoped>\n",
       "    .dataframe tbody tr th:only-of-type {\n",
       "        vertical-align: middle;\n",
       "    }\n",
       "\n",
       "    .dataframe tbody tr th {\n",
       "        vertical-align: top;\n",
       "    }\n",
       "\n",
       "    .dataframe thead th {\n",
       "        text-align: right;\n",
       "    }\n",
       "</style>\n",
       "<table border=\"1\" class=\"dataframe\">\n",
       "  <thead>\n",
       "    <tr style=\"text-align: right;\">\n",
       "      <th></th>\n",
       "      <th>Model</th>\n",
       "      <th>mpg</th>\n",
       "      <th>disp</th>\n",
       "      <th>hp</th>\n",
       "      <th>weight</th>\n",
       "    </tr>\n",
       "  </thead>\n",
       "  <tbody>\n",
       "    <tr>\n",
       "      <th>0</th>\n",
       "      <td>Mazda_RX4</td>\n",
       "      <td>21.0</td>\n",
       "      <td>160.0</td>\n",
       "      <td>110</td>\n",
       "      <td>2.620</td>\n",
       "    </tr>\n",
       "    <tr>\n",
       "      <th>1</th>\n",
       "      <td>Mazda_RX4Wag</td>\n",
       "      <td>21.0</td>\n",
       "      <td>160.0</td>\n",
       "      <td>110</td>\n",
       "      <td>2.875</td>\n",
       "    </tr>\n",
       "    <tr>\n",
       "      <th>2</th>\n",
       "      <td>Datsun_710</td>\n",
       "      <td>22.8</td>\n",
       "      <td>108.0</td>\n",
       "      <td>93</td>\n",
       "      <td>2.320</td>\n",
       "    </tr>\n",
       "    <tr>\n",
       "      <th>3</th>\n",
       "      <td>Hornet_4_Drive</td>\n",
       "      <td>21.4</td>\n",
       "      <td>258.0</td>\n",
       "      <td>110</td>\n",
       "      <td>3.215</td>\n",
       "    </tr>\n",
       "    <tr>\n",
       "      <th>4</th>\n",
       "      <td>Hornet_Sportabout</td>\n",
       "      <td>18.7</td>\n",
       "      <td>360.0</td>\n",
       "      <td>175</td>\n",
       "      <td>3.440</td>\n",
       "    </tr>\n",
       "  </tbody>\n",
       "</table>\n",
       "</div>"
      ],
      "text/plain": [
       "               Model   mpg   disp   hp   weight\n",
       "0          Mazda_RX4  21.0  160.0  110    2.620\n",
       "1       Mazda_RX4Wag  21.0  160.0  110    2.875\n",
       "2         Datsun_710  22.8  108.0   93    2.320\n",
       "3     Hornet_4_Drive  21.4  258.0  110    3.215\n",
       "4  Hornet_Sportabout  18.7  360.0  175    3.440"
      ]
     },
     "execution_count": 3,
     "metadata": {},
     "output_type": "execute_result"
    }
   ],
   "source": [
    "# lubu dubu\n",
    "mtCarsData = pd.read_csv(\"../src/mtcarsdata-4features.csv\",engine= \"python\", sep=' ,')\n",
    "mtCarsData = pd.read_csv(\"../src/mtcarsdata-4features.csv\", )\n",
    "print(\"THIS IS THE MTCarsData\")\n",
    "mtCarsData[:5]"
   ]
  },
  {
   "cell_type": "markdown",
   "metadata": {},
   "source": [
    "# Task 2: Fit a linear regression model"
   ]
  },
  {
   "cell_type": "markdown",
   "metadata": {},
   "source": [
    "### 2.1/2.2 One-dimensional problem without intercept on the Turkish stock exchange data\n",
    "### Using least squares solution to linear regression problem\n",
    "$w = \\frac {\\sum \\limits _{l=1} ^{N} x_{l} t_{l}} {\\sum \\limits _{l=1} ^{N} x^2_{l}}   $"
   ]
  },
  {
   "cell_type": "code",
   "execution_count": 4,
   "metadata": {},
   "outputs": [
    {
     "name": "stdout",
     "output_type": "stream",
     "text": [
      "--- w equals =  0.6339446342595815  ---\n"
     ]
    },
    {
     "data": {
      "text/plain": [
       "Text(0.5, 1.0, 'Plot using least squares solution')"
      ]
     },
     "execution_count": 4,
     "metadata": {},
     "output_type": "execute_result"
    }
   ],
   "source": [
    "plt.figure(figsize= (11,11), dpi=80)\n",
    "turkishStock_LinearOne = turkishStock\n",
    "w = (turkishStock_LinearOne[\"x1\"]*turkishStock_LinearOne[\"x2\"])\n",
    "w = w.sum() / (turkishStock_LinearOne[\"x1\"]*turkishStock_LinearOne[\"x1\"]).sum()\n",
    "print(\"--- w equals = \", w, \" ---\")\n",
    "sns.set(rc={'axes.facecolor':'lightblue', 'figure.facecolor':'silver'})\n",
    "\n",
    "for i in range(3):\n",
    "    randomSubset1 = turkishStock_LinearOne.sample(frac=0.1)\n",
    "    wSubset = (randomSubset1[\"x1\"]*randomSubset1[\"x2\"])\n",
    "    wSubset = wSubset.sum()/(randomSubset1[\"x1\"]**2).sum()\n",
    "    sns.lineplot(\n",
    "        y = randomSubset1[\"x1\"]*wSubset,\n",
    "        x = randomSubset1[\"x1\"]\n",
    "        )\n",
    "# Plot with w calculated from 100% of data\n",
    "linePlot = sns.lineplot(\n",
    "    y = turkishStock_LinearOne[\"x1\"]*w,\n",
    "    x = turkishStock_LinearOne[\"x1\"],\n",
    "    )\n",
    "linePlot.set(xlabel='X1', ylabel='Target X2')\n",
    "# Scatter plot with points with 100% of data\n",
    "pointsPlot = sns.scatterplot(\n",
    "    data = turkishStock_LinearOne, x = \"x1\",\n",
    "    y = \"x2\")\n",
    "pointsPlot.set_title(\"Plot using least squares solution\")\n",
    "\n",
    "# plt.legend(title='linear reggresion lines', loc='upper left', labels=['First 10% of data', 'Second 10% of data', 'Third 10% of data', '100% of data', 'Turkinsh stock data given'])\n",
    "# plt.show()\n",
    "# print(np.random.permutation(11)[:10])"
   ]
  },
  {
   "cell_type": "markdown",
   "metadata": {},
   "source": [
    "## Bonus 1\n",
    "### Linear Regression without intercept (probabably)- standarized data\n",
    "#### Using standarizastion for negleting big changes in data"
   ]
  },
  {
   "cell_type": "code",
   "execution_count": null,
   "metadata": {},
   "outputs": [],
   "source": [
    "turkishStock_standarized = (turkishStock-turkishStock.mean())/turkishStock.std()\n",
    "turkishStock_standarized[:5]"
   ]
  },
  {
   "cell_type": "code",
   "execution_count": null,
   "metadata": {},
   "outputs": [],
   "source": [
    "sns.regplot(data=turkishStock_standarized, x='x1', y='x2').set_title(\"Plot using STANDARIZED data\")\n",
    "plt.show()"
   ]
  },
  {
   "cell_type": "code",
   "execution_count": null,
   "metadata": {},
   "outputs": [],
   "source": [
    "dataSampleTurkish = turkishStock_standarized.sample(frac=0.1)\n",
    "# print(\"turkishStock_standarized\",turkishStock_standarized.size)\n",
    "# print(\"dataSampleTurkish\",dataSampleTurkish.size)\n",
    "\n",
    "\n",
    "# plt.show()\n",
    "fig, axes = plt.subplots(1, 6, figsize=(30, 5))\n",
    "# fig, axes = plt.subplots(1, 5, figsize=(15, 15), sharey=True)\n",
    "\n",
    "\n",
    "for i in range (6):\n",
    "    dataSampleTurkish = turkishStock.sample(frac=0.1)\n",
    "    sns.regplot(ax= axes[i], data=dataSampleTurkish, x='x1', y='x2').set_label(\"Plots with random 10'%' data mean and 95'%' confidence interval\")\n",
    "# sns.regplot(ax= axes[6], data=turkishStock, x='x1', y='x2')\n",
    "plt.show()\n",
    "# https://dev.to/thalesbruno/subplotting-with-matplotlib-and-seaborn-5ei8"
   ]
  },
  {
   "cell_type": "markdown",
   "metadata": {},
   "source": [
    "## 2.3 One-dimensional problem with intercept on the Motor Trends car data, using columns mpg and weight \n",
    "\n",
    "$w = \\frac {\\sum \\limits _{l=1} ^{N} (x_{l} - \\hat{x_{l}}) (t_{l} - \\hat{x_{t}})} {\\sum \\limits _{l=1} ^{N} (x_{l} - \\hat{x_{l}})^2}   $"
   ]
  },
  {
   "cell_type": "code",
   "execution_count": null,
   "metadata": {},
   "outputs": [],
   "source": [
    "xEquation = mtCarsData[\" weight\"]\n",
    "tEquation = mtCarsData[\" mpg\"]\n",
    "\n",
    "calculatedWTop = 0\n",
    "calculatedWBot = 0\n",
    "calculatedW1 = 0\n",
    "calculatedW0 = 0\n",
    "\n",
    "for index , _ in enumerate(xEquation):\n",
    "    calculatedWTop += (xEquation[index] - xEquation.mean())* (tEquation[index] - tEquation.mean())\n",
    "    calculatedWBot += (xEquation[index] - xEquation.mean())**2\n",
    "\n",
    "calculatedW1 = calculatedWTop/calculatedWBot\n",
    "calculatedW0 = tEquation.mean() - calculatedW1 * xEquation.mean()\n",
    "\n",
    "columnTarget = ((xEquation.to_numpy()*calculatedW1) + calculatedW0)\n",
    "\n",
    "xEquation = xEquation.to_numpy()\n",
    "\n",
    "plotToShow = {\"Linear Reggresion Target\" : columnTarget, \"columnX\" : xEquation}\n",
    "\n",
    "DFplotToShow = pd.DataFrame(data=plotToShow)\n",
    "\n",
    "\n",
    "print(f\"Solution w1 to the one dimensional problem with intercept equals _> {calculatedW1}\")\n",
    "print(f\"Solution w0 to the one dimensional problem with intercept equals _> {calculatedW0}\")\n",
    "\n",
    "sns.color_palette(\"husl\", 8)\n",
    "plt.figure(figsize= (11,11), dpi=80)\n",
    "DFplotToShow.plot(x=\"columnX\", y=\"Linear Reggresion Target\", figsize=(11,11))\n",
    "\n",
    "\n",
    "plotPoints = sns.scatterplot(x = xEquation, y = tEquation, color = 'r').set(xlabel = \"Car weight (Lbs/1000)\", ylabel = \"Fuel efficiency (mpg)\")\n",
    "print(f\"    y = {calculatedW1} x + {calculatedW0}\")"
   ]
  },
  {
   "cell_type": "markdown",
   "metadata": {},
   "source": [
    "## Bonus 2\n",
    "### Using numpy auto linalg.lstsq (least squares method)"
   ]
  },
  {
   "cell_type": "code",
   "execution_count": null,
   "metadata": {},
   "outputs": [],
   "source": [
    "\n",
    "# np.append(xEquation, [0])\n",
    "\n",
    "\n",
    "# print(xEquation[:5])\n",
    "# print(\"mtCarsData[' hp']\",xEquation.size)\n",
    "# print(\"mtCarsData[' weight']\",tEquation.size)\n",
    "\n",
    "# xEquation = xEquation[:,np.newaxis]\n",
    "# a, _, _, _ = np.linalg.lstsq(x, y, rcond=None)\n",
    "# plt.plot(xEquation, tEquationy, 'bo')\n",
    "# plt.plot(xEquation, a*xEquation, 'r-')\n",
    "\n",
    "# plt.show()\n",
    "# print(f\"y = {a} x + 0\")"
   ]
  },
  {
   "cell_type": "markdown",
   "metadata": {},
   "source": [
    "## 2.4 Multi-dimensional problem on the complete MTcars data, using all four columns (predict mpg with the other three columns)\n",
    "<!-- $w = \\frac {\\sum \\limits _{l=1} ^{N} (x_{l} - \\hat{x_{l}}) (t_{l} - \\hat{x_{t}})} {\\sum \\limits _{l=1} ^{N} (x_{l} - \\hat{x_{l}})^2}   $ -->\n",
    "$w =  {X^T X}^{-1} (X^T)T   $ ~ Moore-Penrose pseudoinverse of X = X†\n",
    "(Can use df_inv = pd.DataFrame(np.linalg.pinv(df.values), df.columns, df.index) for Moore-Penrose pseudoinverse)"
   ]
  },
  {
   "cell_type": "code",
   "execution_count": null,
   "metadata": {},
   "outputs": [],
   "source": [
    "# Assigning truthData as T and inputData as X\n",
    "truthData = mtCarsData.iloc[:,1]\n",
    "truthData = truthData.to_frame()\n",
    "inputData = mtCarsData.iloc[:,2:5]\n",
    "\n",
    "numpyAnwser = pd.DataFrame(np.linalg.pinv(inputData.values), inputData.columns, inputData.index)\n",
    "\n",
    "w_MoorePenrosse = numpyAnwser.dot(truthData)\n",
    "multiVarPredition = inputData.dot(w_MoorePenrosse)\n",
    "\n",
    "# Calculationg the same by hand to test out\n",
    "\n",
    "# inputInversed = inputData.transpose()\n",
    "# inputInversed = inputInversed.dot(inputData)\n",
    "# inputInversed = pd.DataFrame(np.linalg.inv(inputInversed.values), inputInversed.columns, inputInversed.index)\n",
    "# inputInversed = inputInversed.dot(inputData.transpose())\n",
    "# print(inputInversed.dot(truthData)) #This is the w calculated Moore-Penrosse method\n",
    "\n",
    "finalComparisonDF = mtCarsData.join(multiVarPredition, rsuffix= \"Predicted\")\n",
    "finalComparisonDF = finalComparisonDF[[\"Model\", \" disp\", \" hp\", \" weight\", \" mpg\", \" mpgPredicted\"]]\n",
    "print(finalComparisonDF)"
   ]
  },
  {
   "cell_type": "markdown",
   "metadata": {},
   "source": [
    "# Task 3: Test regression model"
   ]
  },
  {
   "cell_type": "markdown",
   "metadata": {},
   "source": [
    "Re-run 1,3 and 4 from task 2 using only 5% of the data."
   ]
  },
  {
   "cell_type": "code",
   "execution_count": null,
   "metadata": {},
   "outputs": [],
   "source": [
    "#Computing mean square error as function :  calculateMeanSquareError(Y_true, Y_pred)\n",
    "def calculateMeanSquareError(Y_true, Y_pred):\n",
    "    mse = np.square(np.subtract(Y_true,Y_pred)).mean()\n",
    "    \n",
    "    return mse"
   ]
  },
  {
   "cell_type": "code",
   "execution_count": null,
   "metadata": {},
   "outputs": [],
   "source": [
    "#Calculate taks 2.1 funcion task1Func(turStockData, percentOfData : float)\n",
    "def task1MSE_W(turStockData , percentOfData : float):\n",
    "    # Normal data stands for data delivered by {percentOfData}\n",
    "    # Rest data stands for data thats left from substracting 100% - {percentOfData}\n",
    "    # Test stands for testing {percentOfData} aproximations on the 100% - {percentOfData} dataset\n",
    "    turkishStockFuncCalc = turStockData\n",
    "    wFunc = (turkishStockFuncCalc[\"x1\"]*turkishStockFuncCalc[\"x2\"])\n",
    "    wFunc = wFunc.sum() / (turkishStockFuncCalc[\"x1\"]*turkishStockFuncCalc[\"x1\"]).sum()\n",
    "    # print(\"--- w of the whole set equals = \", w, \" ---\")\n",
    "\n",
    "    # Creating dataset of {percentOfData}% capacity\n",
    "    randomSubset = turkishStockFuncCalc.sample(frac=percentOfData)\n",
    "\n",
    "    # Creating dataset of 100% - {percentOfData}% capacity\n",
    "    dataToDtop = pd.DataFrame(randomSubset)\n",
    "    restOfDataDF = pd.DataFrame(turkishStockFuncCalc).drop(dataToDtop.index)\n",
    "\n",
    "    wOfSubset = (randomSubset[\"x1\"]*randomSubset[\"x2\"])\n",
    "    wOfSubset = wOfSubset.sum()/(randomSubset[\"x1\"]**2).sum()\n",
    "\n",
    "    wOfRestOfData = (restOfDataDF[\"x1\"]*restOfDataDF[\"x2\"])\n",
    "    wOfRestOfData = wOfRestOfData.sum()/(restOfDataDF[\"x1\"]**2).sum()\n",
    "\n",
    "\n",
    "    #   predictionsDF = predictionsDF.join((randomSubset[\"x1\"]* wOfSubset), rsuffix= \"Predicted_\"+str(i)+\"_\")\n",
    "    predictionsDF = pd.DataFrame({\"Truth\" : randomSubset[\"x2\"], \"LinearPrediction\" : randomSubset[\"x1\"] * wOfSubset})\n",
    "\n",
    "    #   calculating objective/prediction for rest of the data\n",
    "    predictionsDF_Rest = pd.DataFrame({\"Truth_Rest\" : restOfDataDF[\"x2\"], \"LinearPrediction_Rest\" : restOfDataDF[\"x1\"] * wOfRestOfData})\n",
    "\n",
    "    #   calculating objective/prediction with w from {percentOfData} dataset with input from 100-{percentOfData} dataset\n",
    "    predictionsDF_Test = pd.DataFrame({\"Truth_Test\" : restOfDataDF[\"x2\"], \"LinearPrediction_Test\" : restOfDataDF[\"x1\"] * wOfSubset})\n",
    "\n",
    "\n",
    "    #   calculation mean square error for {percentOfData} \n",
    "    MeanSEE = calculateMeanSquareError(predictionsDF[\"Truth\"], predictionsDF[\"LinearPrediction\"])\n",
    "    #   calculation mean square error for {restOfData} \n",
    "    MeanSEE_Rest = calculateMeanSquareError(predictionsDF_Rest[\"Truth_Rest\"], predictionsDF_Rest[\"LinearPrediction_Rest\"])\n",
    "    #   calculation mean square error for {restOfData} with w of {percentOfData} dataset \n",
    "    MeanSEE_Test = calculateMeanSquareError(predictionsDF_Test[\"Truth_Test\"], predictionsDF_Test[\"LinearPrediction_Test\"])\n",
    "\n",
    "    # sns.lineplot(\n",
    "    #     y = randomSubset[\"x1\"]*wOfSubset,\n",
    "    #     x = randomSubset[\"x1\"]\n",
    "    #     )\n",
    "    # listOfScatterPlots = []\n",
    "    # listOfScatterPlots.append( sns.scatterplot(\n",
    "    #     data = randomSubset, x = \"x1\", y = \"x2\"\n",
    "    #     ).set_title(\"Plot using least squares solution\"))\n",
    "\n",
    "    return predictionsDF, MeanSEE, MeanSEE_Rest, MeanSEE_Test"
   ]
  },
  {
   "cell_type": "markdown",
   "metadata": {},
   "source": [
    "$w = \\frac {\\sum \\limits _{l=1} ^{N} (x_{l} - \\hat{x_{l}}) (t_{l} - \\hat{x_{t}})} {\\sum \\limits _{l=1} ^{N} (x_{l} - \\hat{x_{l}})^2}   $\n"
   ]
  },
  {
   "cell_type": "code",
   "execution_count": null,
   "metadata": {},
   "outputs": [],
   "source": [
    "#Calculate taks 2.3 funcion task3Func(turStockData, percentOfData : float)\n",
    "def task3MSE_Target(CarsDataFrame , percentOfData : float):\n",
    "    CarsDataFrame = pd.DataFrame(data = CarsDataFrame)\n",
    "    randomSubset = CarsDataFrame.sample(frac=percentOfData)\n",
    "    restOfDataSubset = CarsDataFrame.drop(randomSubset.index)\n",
    "    \n",
    "    xEquation = randomSubset[\" weight\"]\n",
    "    tEquation = randomSubset[\" mpg\"]\n",
    "    xEquation_Rest = restOfDataSubset[\" weight\"]\n",
    "    tEquation_Rest = restOfDataSubset[\" mpg\"]\n",
    "\n",
    "    calculatedWTop = 0\n",
    "    calculatedWBot = 0\n",
    "    calculatedW1 = 0\n",
    "    calculatedW0 = 0\n",
    "\n",
    "    calculatedWTop_Rest = 0\n",
    "    calculatedWBot_Rest = 0\n",
    "    calculatedW1_Rest = 0\n",
    "    calculatedW0_Rest = 0\n",
    "\n",
    "    for index , _ in enumerate(xEquation):\n",
    "        calculatedWTop += (xEquation.iloc[index] - xEquation.mean())* (tEquation.iloc[index] - tEquation.mean())\n",
    "        calculatedWBot += (xEquation.iloc[index] - xEquation.mean())**2\n",
    "\n",
    "    for index , _ in enumerate(xEquation_Rest):\n",
    "        calculatedWTop_Rest += (xEquation_Rest.iloc[index] - xEquation_Rest.mean())* (tEquation_Rest.iloc[index] - tEquation_Rest.mean())\n",
    "        calculatedWBot_Rest += (xEquation_Rest.iloc[index] - xEquation_Rest.mean())**2\n",
    "\n",
    "    # calculating W1 and W0 for the target prediction\n",
    "    calculatedW1 = calculatedWTop/calculatedWBot\n",
    "    calculatedW0 = tEquation.mean() - calculatedW1 * xEquation.mean()\n",
    "\n",
    "    calculatedW1_Rest = calculatedWTop_Rest/calculatedWBot_Rest\n",
    "    calculatedW0_Rest = tEquation_Rest.mean() - calculatedW1_Rest * xEquation_Rest.mean()\n",
    "\n",
    "    # calculating prediction Y\n",
    "    columnTarget = ((xEquation.to_numpy()*calculatedW1) + calculatedW0)\n",
    "    columnTarget_Rest = ((xEquation_Rest.to_numpy()*calculatedW1_Rest) + calculatedW0_Rest)\n",
    "    columnTarget_Test = ((xEquation_Rest.to_numpy()*calculatedW1) + calculatedW0)\n",
    "\n",
    "    MeanSEE =       calculateMeanSquareError(tEquation, columnTarget)\n",
    "    MeanSEE_rest =  calculateMeanSquareError(tEquation_Rest, columnTarget_Rest)\n",
    "    MeanSSE_test =  calculateMeanSquareError(tEquation_Rest, columnTarget_Test)\n",
    "    \n",
    "    return columnTarget, columnTarget_Rest, columnTarget_Test, MeanSEE, MeanSEE_rest, MeanSSE_test"
   ]
  },
  {
   "cell_type": "code",
   "execution_count": null,
   "metadata": {},
   "outputs": [],
   "source": [
    "#Calculate taks 2.4 funcion task4MSE_W(mtCarsData, percentOfData : float)\n",
    "def task4MSE_W(CarsDataFrame , percentOfData : float):\n",
    "    # Normal data stands for data delivered by {percentOfData}\n",
    "    # Rest data stands for data thats left from substracting 100% - {percentOfData}\n",
    "    # Test stands for testing {percentOfData} aproximations on the 100% - {percentOfData} dataset\n",
    "    \n",
    "    carsSampleLow = CarsDataFrame.sample(frac=percentOfData)\n",
    "    carsSampleRest = CarsDataFrame.drop(carsSampleLow.index)\n",
    "\n",
    "    truthData = carsSampleLow.iloc[:,1]\n",
    "    truthData = truthData.to_frame()\n",
    "    truthData_Rest = carsSampleRest.iloc[:,1]\n",
    "    truthData_Rest = truthData_Rest.to_frame()\n",
    "\n",
    "    inputData = carsSampleLow.iloc[:,2:5]\n",
    "    inputData_Rest = carsSampleRest.iloc[:,2:5]\n",
    "\n",
    "    numpyAnwser =       pd.DataFrame(np.linalg.pinv(inputData.values), inputData.columns, inputData.index)\n",
    "    numpyAnwser_Rest =  pd.DataFrame(np.linalg.pinv(inputData_Rest.values), inputData_Rest.columns, inputData_Rest.index)\n",
    "\n",
    "    #   Calculating the W\n",
    "    w_MoorePenrosse =       numpyAnwser.dot(truthData)\n",
    "    w_MoorePenrosse_Rest =  numpyAnwser_Rest.dot(truthData_Rest)\n",
    "\n",
    "    #   making predictions\n",
    "    multiVarPredition =         inputData.dot(w_MoorePenrosse)\n",
    "    multiVarPredition_Rest =    inputData_Rest.dot(w_MoorePenrosse_Rest)\n",
    "    multiVarPrediction_test =   inputData_Rest.dot(w_MoorePenrosse)\n",
    "\n",
    "\n",
    "    finalComparisonDF = carsSampleLow.join(multiVarPredition, rsuffix= \"Predicted\")\n",
    "    finalComparisonDF = finalComparisonDF[[\"Model\", \" disp\", \" hp\", \" weight\", \" mpg\", \" mpgPredicted\"]]\n",
    "\n",
    "    finalComparisonDF_Rest = carsSampleRest.join(multiVarPredition_Rest, rsuffix= \"Predicted\")\n",
    "    finalComparisonDF_Rest = finalComparisonDF_Rest[[\"Model\", \" disp\", \" hp\", \" weight\", \" mpg\", \" mpgPredicted\"]]\n",
    "\n",
    "    finalComparisonDF_Test = carsSampleRest.join(multiVarPrediction_test, rsuffix= \"Predicted\")\n",
    "    finalComparisonDF_Test = finalComparisonDF_Test[[\"Model\", \" disp\", \" hp\", \" weight\", \" mpg\", \" mpgPredicted\"]]\n",
    "\n",
    "    #   calculation mean square error for {percentOfData} \n",
    "    MeanSEE =       calculateMeanSquareError(finalComparisonDF[\" mpg\"],         finalComparisonDF[\" mpgPredicted\"])\n",
    "    MeanSEE_rest =  calculateMeanSquareError(finalComparisonDF_Rest[\" mpg\"],    finalComparisonDF_Rest[\" mpgPredicted\"])\n",
    "    MeanSSE_test =  calculateMeanSquareError(finalComparisonDF_Test[\" mpg\"],    finalComparisonDF_Test[\" mpgPredicted\"])\n",
    "\n",
    "    #   calculating objective/prediction for rest of the data\n",
    "\n",
    "    return MeanSEE, MeanSEE_rest, MeanSSE_test, w_MoorePenrosse, w_MoorePenrosse_Rest, finalComparisonDF_Test"
   ]
  },
  {
   "cell_type": "markdown",
   "metadata": {},
   "source": [
    "Re-runing task 1 "
   ]
  },
  {
   "cell_type": "code",
   "execution_count": null,
   "metadata": {},
   "outputs": [],
   "source": [
    "plt.figure(figsize= (15,5), dpi=80)\n",
    "\n",
    "\n",
    "task1PredictionDF, meanSE1, meanSE1_Rest, meanSE1_Test = task1MSE_W(turkishStock, 0.05)\n",
    "print(\"This is the Mean Square Error of first random subset: \", meanSE1)\n",
    "print(\"This is the Mean Square Error of first rest of the set: \", meanSE1_Rest)\n",
    "print(\"This is the Mean Square Error of from 100-percentOfData dataset: \", meanSE1_Test)\n",
    "listOfmeanSE1_Test = []\n",
    "listOfmeanSE1_Rest = []\n",
    "listOfmeanSE1 = []\n",
    "\n",
    "\n",
    "for taskCount in range(200):\n",
    "    _, meanSE1, meanSE1_Rest, meanSE1_Test = task1MSE_W(turkishStock, 0.05)\n",
    "    listOfmeanSE1_Test.append(meanSE1_Test)\n",
    "    listOfmeanSE1_Rest.append(meanSE1_Rest)\n",
    "    listOfmeanSE1.append(meanSE1)\n",
    "\n",
    "\n",
    "chart1, ax1 = plt.subplots(3,1, figsize=(15, 15))\n",
    "sns.set(rc={'axes.facecolor':'lightblue', 'figure.facecolor':'lightgreen'})\n",
    "\n",
    "histPlotSE1_Test =  sns.histplot(data=listOfmeanSE1_Test, ax= ax1[0], color= \"green\" ,bins=100,  kde=True) #.set_label(\"Mean square error for model trained on 5% data (tested for 95%)\")\n",
    "histPlotSE1_Rest =  sns.histplot(data=listOfmeanSE1_Rest, ax= ax1[1], color = \"blue\",bins=30, kde=True) #.set_label(\"Mean square error for model trained on 95% data (tested for 95%)\")\n",
    "histPlotSE1 =       sns.histplot(data=listOfmeanSE1, ax = ax1[2], color = \"Red\",bins=30, kde=True) # set_label(\"Mean square error for model trained on 5% data (tested for 5%)\")\n",
    "ax1[0].set(xlabel='Mean square error for model trained on 5% data (tested for 95%) (2000 samples)')\n",
    "ax1[1].set(xlabel='Mean square error for model trained on 95% data (tested for 95%) (2000 samples)')\n",
    "ax1[2].set(xlabel='Mean square error for model trained on 5% data (tested for 5%) (2000 samples)')"
   ]
  },
  {
   "cell_type": "markdown",
   "metadata": {},
   "source": [
    "Re-runing task 3"
   ]
  },
  {
   "cell_type": "code",
   "execution_count": null,
   "metadata": {},
   "outputs": [],
   "source": [
    "_,_,_, MeanSE3, MeanSE3_Rest , MeanSE3_Test = task3MSE_Target(mtCarsData, 0.05)\n",
    "print(\"This is MeanSE3\\n\",      MeanSE3)\n",
    "print(\"This is MeanSE3_Rest\\n\", MeanSE3_Rest)\n",
    "print(\"This is MeanSE3_Test\\n\", MeanSE3_Test)\n",
    "\n",
    "\n",
    "listOfMeanSE3_Test = []\n",
    "listOfMeanSE3_Rest = []\n",
    "listOfMeanSE3 = []\n",
    "\n",
    "for taskCount in range(2000):\n",
    "    _,_,_, MeanSE3, MeanSE3_Rest , MeanSE3_Test = task3MSE_Target(mtCarsData, 0.05)\n",
    "    listOfMeanSE3_Test.append(MeanSE3_Test)\n",
    "    listOfMeanSE3_Rest.append(MeanSE3_Rest)\n",
    "    listOfMeanSE3.append(MeanSE3)\n",
    "\n",
    "\n",
    "sns.set(rc={'axes.facecolor':'lightblue', 'figure.facecolor':'cornflowerblue'})\n",
    "chart2, ax2 = plt.subplots(3,1, figsize=(15, 15))\n",
    "histPlotSE3_Test =  sns.histplot(data=listOfmeanSE1_Test, ax= ax2[0], color= \"green\",bins=30, kde=True) #.set_label(\"Mean square error for model trained on 5% data (tested for 95%)\")\n",
    "histPlotSE3_Rest =  sns.histplot(data=listOfmeanSE1_Rest, ax= ax2[1], color = \"blue\",bins=30, kde=True) #.set_label(\"Mean square error for model trained on 95% data (tested for 95%)\")\n",
    "histPlotSE3 =       sns.histplot(data=listOfmeanSE1, ax = ax2[2], color = \"red\",bins=30, kde=True) # set_label(\"Mean square error for model trained on 5% data (tested for 5%)\")\n",
    "ax2[0].set(xlabel='Mean square error for model trained on 5% data (tested for 95%) (2000 samples)')\n",
    "ax2[1].set(xlabel='Mean square error for model trained on 95% data (tested for 95%) (2000 samples)')\n",
    "ax2[2].set(xlabel='Mean square error for model trained on 5% data (tested for 5%) (2000 samples)')"
   ]
  },
  {
   "cell_type": "markdown",
   "metadata": {},
   "source": [
    "Re-runing task 4 <br>\n",
    "Remark: 5% of the data from mt cars are just two points resulting in almost 0 MSE for the same set"
   ]
  },
  {
   "cell_type": "code",
   "execution_count": null,
   "metadata": {},
   "outputs": [],
   "source": [
    "meanSE4, meanSE4_Rest, meanSE4_Test, w2, w2_Rest, testingDataframeResult = task4MSE_W(mtCarsData, 0.05)\n",
    "print(\"This is the Mean Square Error of first random subset: \", meanSE4)\n",
    "print(\"This is the Mean Square Error of first rest of the set: \", meanSE4_Rest)\n",
    "print(\"This is the Mean Square Error of 5% to 95% ratio: \", meanSE4_Test)\n",
    "\n",
    "\n",
    "\n",
    "listOfMeanSE4_Test = []\n",
    "listOfMeanSE4_Rest = []\n",
    "listOfMeanSE4 = []\n",
    "\n",
    "for taskCount in range(2000):\n",
    "    meanSE4, meanSE4_Rest, meanSE4_Test, _, _, _ = task4MSE_W(mtCarsData, 0.05)\n",
    "    listOfMeanSE4_Test.append(meanSE4_Test)\n",
    "    listOfMeanSE4_Rest.append(meanSE4_Rest)\n",
    "    listOfMeanSE4.append(meanSE4)\n",
    "\n",
    "sns.set(rc={'axes.facecolor':'lightblue', 'figure.facecolor':'salmon'})\n",
    "chart4, ax4 = plt.subplots(3,1, figsize=(15, 15))\n",
    "\n",
    "histPlotSE4_Test =  sns.histplot(data=listOfmeanSE1_Test, ax= ax4[0], color= \"green\",bins=30, kde=True) #.set_label(\"Mean square error for model trained on 5% data (tested for 95%)\")\n",
    "histPlotSE4_Rest =  sns.histplot(data=listOfmeanSE1_Rest, ax= ax4[1], color = \"blue\",bins=30, kde=True) #.set_label(\"Mean square error for model trained on 95% data (tested for 95%)\")\n",
    "histPlotSE4 =       sns.histplot(data=listOfmeanSE1, ax = ax4[2], color = \"red\",bins=30, kde=True) # set_label(\"Mean square error for model trained on 5% data (tested for 5%)\")\n",
    "ax4[0].set(xlabel='Mean square error for model trained on 5% data (tested for 95%) (2000 samples)')\n",
    "ax4[1].set(xlabel='Mean square error for model trained on 95% data (tested for 95%) (2000 samples)')\n",
    "ax4[2].set(xlabel='Mean square error for model trained on 5% data (tested for 5%) (2000 samples)')"
   ]
  }
 ],
 "metadata": {
  "interpreter": {
   "hash": "aee8b7b246df8f9039afb4144a1f6fd8d2ca17a180786b69acc140d282b71a49"
  },
  "kernelspec": {
   "display_name": "Python 3.10.2 64-bit",
   "language": "python",
   "name": "python3"
  },
  "language_info": {
   "codemirror_mode": {
    "name": "ipython",
    "version": 3
   },
   "file_extension": ".py",
   "mimetype": "text/x-python",
   "name": "python",
   "nbconvert_exporter": "python",
   "pygments_lexer": "ipython3",
   "version": "3.9.7"
  },
  "orig_nbformat": 4
 },
 "nbformat": 4,
 "nbformat_minor": 2
}
